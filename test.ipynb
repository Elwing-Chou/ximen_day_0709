{
  "nbformat": 4,
  "nbformat_minor": 0,
  "metadata": {
    "colab": {
      "provenance": [],
      "authorship_tag": "ABX9TyOC8jAPgf0kJMY4UlVWwfRZ",
      "include_colab_link": true
    },
    "kernelspec": {
      "name": "python3",
      "display_name": "Python 3"
    },
    "language_info": {
      "name": "python"
    }
  },
  "cells": [
    {
      "cell_type": "markdown",
      "metadata": {
        "id": "view-in-github",
        "colab_type": "text"
      },
      "source": [
        "<a href=\"https://colab.research.google.com/github/Elwing-Chou/ximen_day_0709/blob/main/test.ipynb\" target=\"_parent\"><img src=\"https://colab.research.google.com/assets/colab-badge.svg\" alt=\"Open In Colab\"/></a>"
      ]
    },
    {
      "cell_type": "markdown",
      "source": [
        "markdown語法\n",
        "\n",
        "Latex語法 - Latex Math\n",
        "\n",
        "$ ans = \\sum_{i=1}^{n} \\frac{1}{x} $\n",
        "\n",
        "1. 要先打 $\n",
        "2. 特殊符號都已\\開始\n",
        "3. () -> 取代成 {}"
      ],
      "metadata": {
        "id": "mlda3zXmPmea"
      }
    },
    {
      "cell_type": "code",
      "source": [],
      "metadata": {
        "id": "EPVgQyV0Q-Pa"
      },
      "execution_count": null,
      "outputs": []
    }
  ]
}